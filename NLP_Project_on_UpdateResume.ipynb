{
  "nbformat": 4,
  "nbformat_minor": 0,
  "metadata": {
    "colab": {
      "provenance": [],
      "authorship_tag": "ABX9TyNYRJsjC7Pv8Ry/yGX6q6yy",
      "include_colab_link": true
    },
    "kernelspec": {
      "name": "python3",
      "display_name": "Python 3"
    },
    "language_info": {
      "name": "python"
    }
  },
  "cells": [
    {
      "cell_type": "markdown",
      "metadata": {
        "id": "view-in-github",
        "colab_type": "text"
      },
      "source": [
        "<a href=\"https://colab.research.google.com/github/Jatingpt/NLP-Project-on-UpdataResume/blob/main/NLP_Project_on_UpdateResume.ipynb\" target=\"_parent\"><img src=\"https://colab.research.google.com/assets/colab-badge.svg\" alt=\"Open In Colab\"/></a>"
      ]
    },
    {
      "cell_type": "markdown",
      "source": [
        "##**Problem Statement.**\n",
        "##**Companies often receive thousands of resumes for each job posting and employ dedicated screening officers to screen qualified candidates.**\n",
        "\n",
        "##**Hiring the right talent is a challenge for all businesses. This challenge is magnified by the high volume of applicants if the business is labour-intensive, growing, and facing high attrition rates.**\n",
        "\n",
        "##**IT departments are short of growing markets. In a typical service organization, professionals with a variety of technical skills and business domain expertise are hired and assigned to projects to resolve customer issues. This task of selecting the best talent among many others is known as Resume Screening.**"
      ],
      "metadata": {
        "id": "oPFZxffQKz1w"
      }
    },
    {
      "cell_type": "markdown",
      "source": [
        "##**Approach that is used to build this project.**\n",
        "\n",
        "\n",
        "* The approach we have used in this project is defined in the given format-\n",
        "\n",
        "1) **Loading our data** : In this section we just loaded our dataset in colab notebook and read the csv file.\n",
        "\n",
        "2) **Data Cleaning and Processing** : In this section we have tried to remove the null values and for some of the columns we have replaced the null values with the appropriate values with reasonable assumptions.\n",
        "\n",
        "3) **Analysis and Visualization** : In this section we have tried to explore all variables which can play an important role for the analysis. In the next parts we have tried to explore the effect of one over the other. In the next part we tried to answers our hypothetical"
      ],
      "metadata": {
        "id": "lOu7nP8-MLoU"
      }
    },
    {
      "cell_type": "markdown",
      "source": [
        "## **Python Libraries we used:**\n",
        "\n",
        "* **Numpy**\n",
        "\n",
        "* **Pandas**\n",
        "\n",
        "* **Seaborn**\n",
        "\n",
        "* **Matplotlib**"
      ],
      "metadata": {
        "id": "HiNGxswhM1Iy"
      }
    },
    {
      "cell_type": "code",
      "execution_count": null,
      "metadata": {
        "id": "Oav2rh2O8lW_"
      },
      "outputs": [],
      "source": [
        "df = pd.read_csv(\"\")"
      ]
    },
    {
      "cell_type": "code",
      "source": [],
      "metadata": {
        "id": "U6Eh3-fLNspB"
      },
      "execution_count": null,
      "outputs": []
    }
  ]
}